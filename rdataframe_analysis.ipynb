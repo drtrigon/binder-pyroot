{
 "cells": [
  {
   "cell_type": "markdown",
   "metadata": {},
   "source": [
    "# Data analysis with ROOT in Python\n",
    "\n",
    "TODO"
   ]
  },
  {
   "cell_type": "code",
   "execution_count": 1,
   "metadata": {},
   "outputs": [
    {
     "name": "stdout",
     "output_type": "stream",
     "text": [
      "Welcome to JupyROOT 6.23/01\n"
     ]
    }
   ],
   "source": [
    "import ROOT"
   ]
  },
  {
   "cell_type": "markdown",
   "metadata": {},
   "source": [
    "## Create a dataframe from a ROOT dataset, read remotely\n",
    "\n",
    "TODO, remote data, multithreading"
   ]
  },
  {
   "cell_type": "code",
   "execution_count": 2,
   "metadata": {},
   "outputs": [],
   "source": [
    "path = 'root://eospublic.cern.ch//eos/opendata/cms/derived-data/AOD2NanoAODOutreachTool/Run2012BC_DoubleMuParked_Muons.root'\n",
    "df = ROOT.RDataFrame('Events', path)"
   ]
  },
  {
   "cell_type": "markdown",
   "metadata": {},
   "source": [
    "## Select events with two muons and opposite charge\n",
    "\n",
    "TODO, note that we reduce the example from 66 mio to 100k"
   ]
  },
  {
   "cell_type": "code",
   "execution_count": 3,
   "metadata": {},
   "outputs": [],
   "source": [
    "df = df.Filter(\"nMuon == 2\", \"Events with exactly two muons\")\\\n",
    "       .Filter(\"Muon_charge[0] != Muon_charge[1]\", \"Muons with opposite charge\")\\\n",
    "       .Range(100000)"
   ]
  },
  {
   "cell_type": "markdown",
   "metadata": {},
   "source": [
    "## Compute the invariant mass"
   ]
  },
  {
   "cell_type": "code",
   "execution_count": 4,
   "metadata": {
    "scrolled": true
   },
   "outputs": [],
   "source": [
    "ROOT.gInterpreter.Declare(\n",
    "\"\"\"\n",
    "using Vec_t = const ROOT::VecOps::RVec<float>&;\n",
    "float compute_mass(Vec_t pt, Vec_t eta, Vec_t phi, Vec_t mass) {\n",
    "    ROOT::Math::PtEtaPhiMVector p1(pt[0], eta[0], phi[0], mass[0]);\n",
    "    ROOT::Math::PtEtaPhiMVector p2(pt[1], eta[1], phi[1], mass[1]);\n",
    "    return (p1 + p2).mass();\n",
    "}\n",
    "\"\"\")\n",
    "df = df.Define(\"Dimuon_mass\", \"compute_mass(Muon_pt, Muon_eta, Muon_phi, Muon_mass)\")"
   ]
  },
  {
   "cell_type": "markdown",
   "metadata": {},
   "source": [
    "## Book a histogram"
   ]
  },
  {
   "cell_type": "code",
   "execution_count": 5,
   "metadata": {},
   "outputs": [],
   "source": [
    "hist = df.Histo1D((\"hist\", \";m_{#mu#mu} (GeV);N_{Events}\", 5000, 2, 200), \"Dimuon_mass\")"
   ]
  },
  {
   "cell_type": "markdown",
   "metadata": {},
   "source": [
    "## Book a cutflow report\n",
    "\n",
    "TODO: declarative!"
   ]
  },
  {
   "cell_type": "code",
   "execution_count": 6,
   "metadata": {},
   "outputs": [],
   "source": [
    "report = df.Report()"
   ]
  },
  {
   "cell_type": "markdown",
   "metadata": {},
   "source": [
    "## Plot the result, interactively!"
   ]
  },
  {
   "cell_type": "code",
   "execution_count": 7,
   "metadata": {},
   "outputs": [],
   "source": [
    "ROOT.gStyle.SetOptStat(0); ROOT.gStyle.SetTextFont(42)\n",
    "c = ROOT.TCanvas(\"c\", \"\", 800, 700)\n",
    "c.SetLogx(); c.SetLogy()\n",
    "hist.Draw()\n",
    "\n",
    "label = ROOT.TLatex(); label.SetNDC(True)\n",
    "label.SetTextSize(0.040); label.DrawLatex(0.100, 0.920, \"#bf{CMS Open Data}\")\n",
    "label.SetTextSize(0.030); label.DrawLatex(0.630, 0.920, \"#sqrt{s} = 8 TeV, L_{int} = 11.6 fb^{-1}\");"
   ]
  },
  {
   "cell_type": "code",
   "execution_count": 8,
   "metadata": {
    "scrolled": false
   },
   "outputs": [
    {
     "data": {
      "image/png": "[encoded data removed]",
      "text/plain": [
       "<IPython.core.display.Image object>"
      ]
     },
     "metadata": {},
     "output_type": "display_data"
    }
   ],
   "source": [
    "%jsroot on\n",
    "c.Draw()"
   ]
  },
  {
   "cell_type": "markdown",
   "metadata": {},
   "source": [
    "## Print the cutflow report"
   ]
  },
  {
   "cell_type": "code",
   "execution_count": 9,
   "metadata": {},
   "outputs": [
    {
     "name": "stdout",
     "output_type": "stream",
     "text": [
      "Events with exactly two muons: pass=131936     all=270077     -- eff=48.85 % cumulative eff=48.85 %\n",
      "Muons with opposite charge: pass=100000     all=131936     -- eff=75.79 % cumulative eff=37.03 %\n"
     ]
    }
   ],
   "source": [
    "report.Print()"
   ]
  }
 ],
 "metadata": {
  "kernelspec": {
   "display_name": "Python 3",
   "language": "python",
   "name": "python3"
  },
  "language_info": {
   "codemirror_mode": {
    "name": "ipython",
    "version": 3
   },
   "file_extension": ".py",
   "mimetype": "text/x-python",
   "name": "python",
   "nbconvert_exporter": "python",
   "pygments_lexer": "ipython3",
   "version": "3.8.3"
  }
 },
 "nbformat": 4,
 "nbformat_minor": 4
}
