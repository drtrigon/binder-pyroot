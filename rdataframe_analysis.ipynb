{
 "cells": [
  {
   "cell_type": "markdown",
   "metadata": {},
   "source": [
    "# Efficient data analysis in Python with ROOT\n",
    "\n",
    "The modern interface to process datasets in ROOT files (aka [`TTree`s](https://root.cern.ch/doc/master/classTTree.html)) is [`RDataFrame`](https://root.cern.ch/doc/master/classROOT_1_1RDataFrame.html). The concept is a computation graph, which is built in a declarative manner, and executes the booked computations as efficient as possible. The following notebook provides examples of the workflow in Python."
   ]
  },
  {
   "cell_type": "code",
   "execution_count": 1,
   "metadata": {
    "scrolled": true
   },
   "outputs": [
    {
     "name": "stdout",
     "output_type": "stream",
     "text": [
      "Welcome to JupyROOT 6.22/00\n"
     ]
    }
   ],
   "source": [
    "import ROOT"
   ]
  },
  {
   "cell_type": "markdown",
   "metadata": {},
   "source": [
    "## Create a dataframe from a remote dataset\n",
    "\n",
    "This examples reads a dataset with the name `Events` remotely via the [`XRootD`](https://xrootd.slac.stanford.edu/) protocol."
   ]
  },
  {
   "cell_type": "code",
   "execution_count": 2,
   "metadata": {},
   "outputs": [],
   "source": [
    "path = 'root://eospublic.cern.ch//eos/opendata/cms/derived-data/AOD2NanoAODOutreachTool/Run2012BC_DoubleMuParked_Muons.root'\n",
    "df = ROOT.RDataFrame('Events', path)"
   ]
  },
  {
   "cell_type": "markdown",
   "metadata": {},
   "source": [
    "## Select events with two muons and opposite charge\n",
    "\n",
    "We filter the dataset for events with two muons and opposite charge. The last line restricts the full dataset to a subset of the in total 66 mio. events."
   ]
  },
  {
   "cell_type": "code",
   "execution_count": 3,
   "metadata": {},
   "outputs": [],
   "source": [
    "df = df.Filter(\"nMuon == 2\", \"Events with exactly two muons\")\\\n",
    "       .Filter(\"Muon_charge[0] != Muon_charge[1]\", \"Muons with opposite charge\")\\\n",
    "       .Range(100000)"
   ]
  },
  {
   "cell_type": "markdown",
   "metadata": {},
   "source": [
    "## Compute the invariant mass\n",
    "\n",
    "As example for the injection of efficient C++ kernels, the computation of the invariant mass is carried out explicitely with two fourvectors. Alternatively, the ROOT utility [`ROOT::VecOps::InvariantMass`](https://root.cern.ch/doc/master/namespaceROOT_1_1VecOps.html#a2c531eae910edad48bbf7319cc6d7e58) could be used."
   ]
  },
  {
   "cell_type": "code",
   "execution_count": 4,
   "metadata": {
    "scrolled": true
   },
   "outputs": [],
   "source": [
    "ROOT.gInterpreter.Declare(\n",
    "\"\"\"\n",
    "using Vec_t = const ROOT::VecOps::RVec<float>&;\n",
    "float compute_mass(Vec_t pt, Vec_t eta, Vec_t phi, Vec_t mass) {\n",
    "    ROOT::Math::PtEtaPhiMVector p1(pt[0], eta[0], phi[0], mass[0]);\n",
    "    ROOT::Math::PtEtaPhiMVector p2(pt[1], eta[1], phi[1], mass[1]);\n",
    "    return (p1 + p2).mass();\n",
    "}\n",
    "\"\"\")\n",
    "df = df.Define(\"Dimuon_mass\", \"compute_mass(Muon_pt, Muon_eta, Muon_phi, Muon_mass)\")"
   ]
  },
  {
   "cell_type": "markdown",
   "metadata": {},
   "source": [
    "## Book a histogram\n",
    "\n",
    "This cell books a histogram. Note that the computation has not started yet! Since the workflow is declarative, the computation just starts when the results are required to perform all computations in one go as optimized as possible."
   ]
  },
  {
   "cell_type": "code",
   "execution_count": 5,
   "metadata": {},
   "outputs": [],
   "source": [
    "hist = df.Histo1D((\"hist\", \";m_{#mu#mu} (GeV);N_{Events}\", 5000, 2, 200), \"Dimuon_mass\")"
   ]
  },
  {
   "cell_type": "markdown",
   "metadata": {},
   "source": [
    "## Book a cutflow report\n",
    "\n",
    "In addition, we book a cutflow report, which is shown below the plot."
   ]
  },
  {
   "cell_type": "code",
   "execution_count": 6,
   "metadata": {},
   "outputs": [],
   "source": [
    "report = df.Report()"
   ]
  },
  {
   "cell_type": "markdown",
   "metadata": {},
   "source": [
    "## Plot the result\n",
    "\n",
    "Note that drawing the histogram accessed the object, which also triggers the actual event loop."
   ]
  },
  {
   "cell_type": "code",
   "execution_count": 7,
   "metadata": {},
   "outputs": [],
   "source": [
    "ROOT.gStyle.SetOptStat(0); ROOT.gStyle.SetTextFont(42)\n",
    "c = ROOT.TCanvas(\"c\", \"\", 800, 700)\n",
    "c.SetLogx(); c.SetLogy()\n",
    "hist.Draw()\n",
    "\n",
    "label = ROOT.TLatex(); label.SetNDC(True)\n",
    "label.SetTextSize(0.040); label.DrawLatex(0.100, 0.920, \"#bf{CMS Open Data}\")\n",
    "label.SetTextSize(0.030); label.DrawLatex(0.630, 0.920, \"#sqrt{s} = 8 TeV, L_{int} = 11.6 fb^{-1}\");"
   ]
  },
  {
   "cell_type": "code",
   "execution_count": 8,
   "metadata": {
    "scrolled": false
   },
   "outputs": [
    {
     "data": {
      "image/png": "[encoded data removed]",
      "text/plain": [
       "<IPython.core.display.Image object>"
      ]
     },
     "metadata": {},
     "output_type": "display_data"
    }
   ],
   "source": [
    "c.Draw()"
   ]
  },
  {
   "cell_type": "markdown",
   "metadata": {},
   "source": [
    "## Print the cutflow report\n",
    "\n",
    "Here you can inspect the number of events actually read and how many ended up in the histogram."
   ]
  },
  {
   "cell_type": "code",
   "execution_count": 9,
   "metadata": {},
   "outputs": [
    {
     "name": "stdout",
     "output_type": "stream",
     "text": [
      "Events with exactly two muons: pass=131936     all=270077     -- eff=48.85 % cumulative eff=48.85 %\n",
      "Muons with opposite charge: pass=100000     all=131936     -- eff=75.79 % cumulative eff=37.03 %\n"
     ]
    }
   ],
   "source": [
    "report.Print()"
   ]
  },
  {
   "cell_type": "markdown",
   "metadata": {},
   "source": [
    "# Other example analyses\n",
    "\n",
    "The following part of the notebook highlights example analyses in Python using a workflow similar to the example above, all freely accessbile thanks to open source and open data!\n",
    "\n",
    "## Higgs to four leptons analysis using CMS Open Data\n",
    "\n",
    "![](https://root.cern.ch/doc/v622/pict1_df103_NanoAODHiggsAnalysis.C.png)\n",
    "\n",
    "[Link to analysis and notebooks](https://root.cern.ch/doc/v622/df103__NanoAODHiggsAnalysis_8py.html)\n",
    "\n",
    "## Higgs to two photons analysis using ATLAS Open Data\n",
    "\n",
    "![](https://root.cern.ch/doc/v622/pict1_df104_HiggsToTwoPhotons.py.png)\n",
    "\n",
    "[Link to analysis and notebooks](https://root.cern.ch/doc/v622/df104__HiggsToTwoPhotons_8py.html)\n",
    "\n",
    "## W boson analysis using ATLAS Open Data\n",
    "\n",
    "![](https://root.cern.ch/doc/v622/pict1_df105_WBosonAnalysis.py.png)\n",
    "\n",
    "[Link to analysis and notebooks](https://root.cern.ch/doc/v622/df105__WBosonAnalysis_8py.html)\n",
    "\n",
    "## Higgs to four leptons analysis using ATLAS Open Data\n",
    "\n",
    "![](https://root.cern.ch/doc/v622/pict1_df106_HiggsToFourLeptons.py.png)\n",
    "\n",
    "[Link to analysis and notebooks](https://root.cern.ch/doc/v622/df106__HiggsToFourLeptons_8py.html)"
   ]
  }
 ],
 "metadata": {
  "kernelspec": {
   "display_name": "Python 3",
   "language": "python",
   "name": "python3"
  },
  "language_info": {
   "codemirror_mode": {
    "name": "ipython",
    "version": 3
   },
   "file_extension": ".py",
   "mimetype": "text/x-python",
   "name": "python",
   "nbconvert_exporter": "python",
   "pygments_lexer": "ipython3",
   "version": "3.7.6"
  }
 },
 "nbformat": 4,
 "nbformat_minor": 4
}
