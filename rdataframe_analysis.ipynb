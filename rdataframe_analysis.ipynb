{
 "cells": [
  {
   "cell_type": "markdown",
   "metadata": {},
   "source": [
    "# Efficient data analysis in Python with ROOT\n",
    "\n",
    "The modern interface to process datasets in ROOT files (aka [`TTree`s](https://root.cern.ch/doc/master/classTTree.html)) is [`RDataFrame`](https://root.cern.ch/doc/master/classROOT_1_1RDataFrame.html). The concept is a computation graph, which is built in a declarative manner, and executes the booked computations as efficient as possible. The following notebook provides examples of the workflow in Python."
   ]
  },
  {
   "cell_type": "code",
   "execution_count": 1,
   "metadata": {
    "scrolled": true
   },
   "outputs": [
    {
     "name": "stdout",
     "output_type": "stream",
     "text": [
      "Welcome to JupyROOT 6.22/00\n"
     ]
    }
   ],
   "source": [
    "import ROOT"
   ]
  },
  {
   "cell_type": "markdown",
   "metadata": {},
   "source": [
    "## Create a dataframe from a remote dataset\n",
    "\n",
    "This examples reads a dataset with the name `Events` remotely via the [`XRootD`](https://xrootd.slac.stanford.edu/) protocol."
   ]
  },
  {
   "cell_type": "code",
   "execution_count": 2,
   "metadata": {},
   "outputs": [],
   "source": [
    "path = 'root://eospublic.cern.ch//eos/opendata/cms/derived-data/AOD2NanoAODOutreachTool/Run2012BC_DoubleMuParked_Muons.root'\n",
    "df = ROOT.RDataFrame('Events', path)"
   ]
  },
  {
   "cell_type": "markdown",
   "metadata": {},
   "source": [
    "## Select events with two muons and opposite charge\n",
    "\n",
    "We filter the dataset for events with two muons and opposite charge. The last line restricts the full dataset to a subset of the in total 66 mio. events."
   ]
  },
  {
   "cell_type": "code",
   "execution_count": 3,
   "metadata": {},
   "outputs": [],
   "source": [
    "df = df.Filter(\"nMuon == 2\", \"Events with exactly two muons\")\\\n",
    "       .Filter(\"Muon_charge[0] != Muon_charge[1]\", \"Muons with opposite charge\")\\\n",
    "       .Range(100000)"
   ]
  },
  {
   "cell_type": "markdown",
   "metadata": {},
   "source": [
    "## Compute the invariant mass\n",
    "\n",
    "As example for the injection of efficient C++ kernels, the computation of the invariant mass is carried out explicitely with two fourvectors. Alternatively, the ROOT utility [`ROOT::VecOps::InvariantMass`](https://root.cern.ch/doc/master/namespaceROOT_1_1VecOps.html#a2c531eae910edad48bbf7319cc6d7e58) could be used."
   ]
  },
  {
   "cell_type": "code",
   "execution_count": 4,
   "metadata": {
    "scrolled": true
   },
   "outputs": [],
   "source": [
    "ROOT.gInterpreter.Declare(\n",
    "\"\"\"\n",
    "using Vec_t = const ROOT::VecOps::RVec<float>&;\n",
    "float compute_mass(Vec_t pt, Vec_t eta, Vec_t phi, Vec_t mass) {\n",
    "    ROOT::Math::PtEtaPhiMVector p1(pt[0], eta[0], phi[0], mass[0]);\n",
    "    ROOT::Math::PtEtaPhiMVector p2(pt[1], eta[1], phi[1], mass[1]);\n",
    "    return (p1 + p2).mass();\n",
    "}\n",
    "\"\"\")\n",
    "df = df.Define(\"Dimuon_mass\", \"compute_mass(Muon_pt, Muon_eta, Muon_phi, Muon_mass)\")"
   ]
  },
  {
   "cell_type": "markdown",
   "metadata": {},
   "source": [
    "## Book a histogram\n",
    "\n",
    "This cell books a histogram. Note that the computation has not started yet! Since the workflow is declarative, the computation just starts when the results are required to perform all computations in one go as optimized as possible."
   ]
  },
  {
   "cell_type": "code",
   "execution_count": 5,
   "metadata": {},
   "outputs": [],
   "source": [
    "hist = df.Histo1D((\"hist\", \";m_{#mu#mu} (GeV);N_{Events}\", 5000, 2, 200), \"Dimuon_mass\")"
   ]
  },
  {
   "cell_type": "markdown",
   "metadata": {},
   "source": [
    "## Book a cutflow report\n",
    "\n",
    "In addition, we book a cutflow report, which is shown below the plot."
   ]
  },
  {
   "cell_type": "code",
   "execution_count": 6,
   "metadata": {},
   "outputs": [],
   "source": [
    "report = df.Report()"
   ]
  },
  {
   "cell_type": "markdown",
   "metadata": {},
   "source": [
    "## Plot the result, interactively!\n",
    "\n",
    "This cell draws the histogram, which also triggers the event loop. The plot below is interactive thanks to the magic `%jsroot`, which provides interactive graphics based on a JavaScript backend."
   ]
  },
  {
   "cell_type": "code",
   "execution_count": 7,
   "metadata": {},
   "outputs": [],
   "source": [
    "ROOT.gStyle.SetOptStat(0); ROOT.gStyle.SetTextFont(42)\n",
    "c = ROOT.TCanvas(\"c\", \"\", 800, 700)\n",
    "c.SetLogx(); c.SetLogy()\n",
    "hist.Draw()\n",
    "\n",
    "label = ROOT.TLatex(); label.SetNDC(True)\n",
    "label.SetTextSize(0.040); label.DrawLatex(0.100, 0.920, \"#bf{CMS Open Data}\")\n",
    "label.SetTextSize(0.030); label.DrawLatex(0.630, 0.920, \"#sqrt{s} = 8 TeV, L_{int} = 11.6 fb^{-1}\");"
   ]
  },
  {
   "cell_type": "code",
   "execution_count": 8,
   "metadata": {
    "scrolled": false
   },
   "outputs": [
    {
     "data": {
      "text/html": [
       "\n",
       "<div id=\"root_plot_1594213278563\"\n",
       "     style=\"width: 796px; height: 672px\">\n",
       "</div>\n",
       "<script src=\"/static/components/requirejs/require.js\" type=\"text/javascript\" charset=\"utf-8\"></script>\n",
       "<script>\n",
       " requirejs.config({\n",
       "     paths: {\n",
       "       'JSRootCore' : '/static/scripts/JSRootCore',\n",
       "     }\n",
       "   });\n",
       " require(['JSRootCore'],\n",
       "     function(Core) {\n",
       "       var obj = Core.JSONR_unref({\"_typename\":\"TCanvas\",\"fUniqueID\":0,\"fBits\":3342344,\"fLineColor\":1,\"fLineStyle\":1,\"fLineWidth\":1,\"fFillColor\":0,\"fFillStyle\":1001,\"fLeftMargin\":0.1,\"fRightMargin\":0.1,\"fBottomMargin\":0.1,\"fTopMargin\":0.1,\"fXfile\":2,\"fYfile\":2,\"fAfile\":1,\"fXstat\":0.99,\"fYstat\":0.99,\"fAstat\":2,\"fFrameFillColor\":0,\"fFrameLineColor\":1,\"fFrameFillStyle\":1001,\"fFrameLineStyle\":1,\"fFrameLineWidth\":1,\"fFrameBorderSize\":1,\"fFrameBorderMode\":0,\"fX1\":0.0510299770375286,\"fY1\":-0.821436194430113,\"fX2\":2.55103001429043,\"fY2\":4.38262548304494,\"fXtoAbsPixelk\":-16.2478944466358,\"fXtoPixelk\":-16.2478944466358,\"fXtoPixel\":318.39999525547,\"fYtoAbsPixelk\":565.928070675408,\"fYtoPixelk\":565.928070675408,\"fYtoPixel\":-129.129906916485,\"fUtoAbsPixelk\":5e-5,\"fUtoPixelk\":5e-5,\"fUtoPixel\":796,\"fVtoAbsPixelk\":672.00005,\"fVtoPixelk\":672,\"fVtoPixel\":-672,\"fAbsPixeltoXk\":0.0510299770375286,\"fPixeltoXk\":0.0510299770375286,\"fPixeltoX\":0.00314070356438807,\"fAbsPixeltoYk\":4.38262548304494,\"fPixeltoYk\":-0.821436194430113,\"fPixeltoY\":-0.00774413940100454,\"fXlowNDC\":0,\"fYlowNDC\":0,\"fXUpNDC\":1,\"fYUpNDC\":1,\"fWNDC\":1,\"fHNDC\":1,\"fAbsXlowNDC\":0,\"fAbsYlowNDC\":0,\"fAbsWNDC\":1,\"fAbsHNDC\":1,\"fUxmin\":0.301029995663981,\"fUymin\":-0.301029995663981,\"fUxmax\":2.30102999566398,\"fUymax\":3.86221928427881,\"fTheta\":30,\"fPhi\":30,\"fAspectRatio\":0,\"fNumber\":0,\"fTickx\":0,\"fTicky\":0,\"fLogx\":1,\"fLogy\":1,\"fLogz\":0,\"fPadPaint\":0,\"fCrosshair\":0,\"fCrosshairPos\":0,\"fBorderSize\":2,\"fBorderMode\":0,\"fModified\":false,\"fGridx\":false,\"fGridy\":false,\"fAbsCoord\":false,\"fEditable\":true,\"fFixedAspectRatio\":false,\"fPrimitives\":{\"_typename\":\"TList\",\"name\":\"TList\",\"arr\":[{\"_typename\":\"TFrame\",\"fUniqueID\":0,\"fBits\":8,\"fLineColor\":1,\"fLineStyle\":1,\"fLineWidth\":1,\"fFillColor\":0,\"fFillStyle\":1001,\"fX1\":0.301029995663981,\"fY1\":-0.301029995663981,\"fX2\":2.30102999566398,\"fY2\":3.86221928427881,\"fBorderSize\":1,\"fBorderMode\":0},{\"_typename\":\"TH1D\",\"fUniqueID\":0,\"fBits\":8,\"fName\":\"hist\",\"fTitle\":\"\",\"fLineColor\":602,\"fLineStyle\":1,\"fLineWidth\":1,\"fFillColor\":0,\"fFillStyle\":1001,\"fMarkerColor\":1,\"fMarkerStyle\":1,\"fMarkerSize\":1,\"fNcells\":5002,\"fXaxis\":{\"_typename\":\"TAxis\",\"fUniqueID\":0,\"fBits\":0,\"fName\":\"xaxis\",\"fTitle\":\"m_{#mu#mu} (GeV)\",\"fNdivisions\":510,\"fAxisColor\":1,\"fLabelColor\":1,\"fLabelFont\":42,\"fLabelOffset\":0.005,\"fLabelSize\":0.035,\"fTickLength\":0.03,\"fTitleOffset\":1,\"fTitleSize\":0.035,\"fTitleColor\":1,\"fTitleFont\":42,\"fNbins\":5000,\"fXmin\":2,\"fXmax\":200,\"fXbins\":[],\"fFirst\":0,\"fLast\":0,\"fBits2\":0,\"fTimeDisplay\":false,\"fTimeFormat\":\"\",\"fLabels\":null,\"fModLabs\":null},\"fYaxis\":{\"_typename\":\"TAxis\",\"fUniqueID\":0,\"fBits\":0,\"fName\":\"yaxis\",\"fTitle\":\"N_{Events}\",\"fNdivisions\":510,\"fAxisColor\":1,\"fLabelColor\":1,\"fLabelFont\":42,\"fLabelOffset\":0.005,\"fLabelSize\":0.035,\"fTickLength\":0.03,\"fTitleOffset\":0,\"fTitleSize\":0.035,\"fTitleColor\":1,\"fTitleFont\":42,\"fNbins\":1,\"fXmin\":0,\"fXmax\":1,\"fXbins\":[],\"fFirst\":0,\"fLast\":0,\"fBits2\":0,\"fTimeDisplay\":false,\"fTimeFormat\":\"\",\"fLabels\":null,\"fModLabs\":null},\"fZaxis\":{\"_typename\":\"TAxis\",\"fUniqueID\":0,\"fBits\":0,\"fName\":\"zaxis\",\"fTitle\":\"\",\"fNdivisions\":510,\"fAxisColor\":1,\"fLabelColor\":1,\"fLabelFont\":42,\"fLabelOffset\":0.005,\"fLabelSize\":0.035,\"fTickLength\":0.03,\"fTitleOffset\":1,\"fTitleSize\":0.035,\"fTitleColor\":1,\"fTitleFont\":42,\"fNbins\":1,\"fXmin\":0,\"fXmax\":1,\"fXbins\":[],\"fFirst\":0,\"fLast\":0,\"fBits2\":0,\"fTimeDisplay\":false,\"fTimeFormat\":\"\",\"fLabels\":null,\"fModLabs\":null},\"fBarOffset\":0,\"fBarWidth\":1000,\"fEntries\":100000,\"fTsumw\":84831,\"fTsumw2\":84831,\"fTsumwx\":3317338.80224657,\"fTsumwx2\":230138924.785474,\"fMaximum\":-1111,\"fMinimum\":-1111,\"fNormFactor\":0,\"fContour\":[],\"fSumw2\":[],\"fOption\":\"\",\"fFunctions\":{\"_typename\":\"TList\",\"name\":\"TList\",\"arr\":[],\"opt\":[]},\"fBufferSize\":0,\"fBuffer\":[],\"fBinStatErrOpt\":0,\"fStatOverflows\":2,\"fArray\":[15064,338,290,278,243,250,274,274,278,278,270,261,264,229,257,231,271,234,208,208,209,209,207,203,228,294,534,1723,3843,2125,540,221,164,109,82,108,95,103,91,71,88,99,150,231,159,85,59,51,47,61,51,61,44,51,57,51,46,38,38,47,49,53,44,60,43,41,40,42,39,55,39,34,41,47,49,35,53,42,45,50,32,43,52,36,38,41,54,41,45,49,30,41,39,38,67,38,46,45,30,29,48,50,45,35,52,64,32,33,33,40,48,36,40,40,42,33,42,45,36,47,50,36,40,39,38,40,41,37,43,42,44,34,35,29,43,33,36,37,39,35,48,37,44,31,29,32,29,25,31,35,37,44,34,37,24,35,30,29,39,35,22,39,42,30,27,25,34,19,34,29,38,30,36,26,39,27,34,42,39,33,33,37,51,44,59,87,108,139,168,169,167,115,82,69,55,39,43,40,46,58,61,90,105,99,93,91,63,64,74,68,71,82,89,62,55,43,34,20,43,33,27,26,30,29,31,29,25,21,38,31,26,23,30,34,34,18,28,30,25,19,27,32,34,43,36,30,27,24,26,28,27,22,28,25,27,30,25,39,31,29,33,18,32,23,30,28,25,31,34,31,27,30,21,35,27,25,25,20,41,30,32,19,33,32,22,35,21,35,29,28,29,29,24,25,26,28,21,30,30,26,28,26,34,29,30,25,24,30,25,25,33,30,28,24,35,23,26,33,29,30,30,25,21,31,28,23,30,25,17,23,38,35,31,23,24,33,33,25,24,30,26,29,26,23,24,20,35,38,21,32,23,30,18,27,27,18,25,18,29,29,33,22,18,31,27,27,22,24,23,30,32,27,25,25,34,23,24,25,27,27,31,28,26,29,31,15,18,21,21,27,34,23,28,31,22,34,33,28,31,25,25,30,28,28,29,30,34,24,22,32,35,28,30,30,23,26,21,20,22,27,22,23,37,28,26,32,25,29,26,17,23,27,18,15,17,34,34,28,27,31,26,24,29,29,39,30,29,41,26,22,29,29,25,21,33,31,40,23,26,33,35,36,37,28,29,29,32,35,39,29,27,40,31,37,29,23,41,32,27,29,38,38,37,35,47,33,42,33,35,39,48,35,42,39,40,45,35,37,36,41,34,43,33,44,48,39,45,38,45,51,38,37,49,44,47,42,43,51,41,43,50,37,52,48,48,45,49,55,56,40,43,50,51,43,63,54,48,35,49,49,48,50,58,47,57,59,46,70,50,71,53,51,51,52,52,55,54,53,69,67,56,60,55,46,57,53,52,67,64,54,66,57,52,54,45,58,63,73,59,54,61,43,53,44,53,59,54,63,60,54,54,52,69,53,66,54,61,39,64,58,45,59,60,64,59,49,75,63,55,43,55,64,49,58,55,58,63,50,51,59,49,55,71,60,63,62,58,47,67,59,64,63,63,60,46,61,57,66,66,55,54,43,68,45,58,67,56,52,69,59,62,48,58,55,52,56,57,55,54,61,63,47,52,51,66,52,57,57,68,68,48,61,65,41,55,53,55,61,59,63,50,54,45,50,50,66,55,48,49,44,51,52,70,50,55,50,52,59,59,52,41,48,45,45,60,63,45,51,50,56,39,43,51,41,57,49,55,44,58,42,49,44,48,41,47,63,59,46,53,55,42,39,49,49,51,40,53,44,58,53,39,39,54,51,50,41,56,37,38,49,42,51,57,42,38,44,45,42,33,45,46,48,38,49,42,33,41,35,34,42,51,46,32,41,38,39,46,51,39,53,49,34,49,36,40,39,42,39,40,49,43,35,32,32,44,42,40,36,53,37,45,46,36,47,37,43,41,44,49,35,38,35,45,38,32,43,40,41,26,36,35,41,36,26,41,45,40,34,32,31,35,31,38,55,39,31,33,26,25,35,29,43,34,41,30,22,32,33,27,33,35,34,33,39,42,43,37,47,30,33,31,29,40,33,39,32,29,33,36,25,34,31,32,36,35,35,38,33,27,31,29,31,39,23,36,25,27,35,26,33,32,28,29,27,35,35,41,24,32,34,35,34,31,30,29,37,38,20,31,30,30,41,37,25,29,32,41,25,34,33,22,24,30,32,30,31,25,36,24,25,20,35,29,34,28,21,39,26,29,23,29,26,17,31,31,19,25,22,32,30,21,28,35,24,32,22,21,30,35,26,32,25,43,26,22,25,32,32,27,30,30,20,22,31,20,25,22,18,21,30,21,29,28,26,27,28,35,29,19,18,23,21,17,30,23,28,21,27,23,13,19,27,31,29,29,25,29,20,19,20,26,31,24,25,20,25,17,15,29,15,21,12,22,20,19,25,17,21,26,18,12,16,26,23,15,23,19,26,19,19,17,21,28,23,29,16,24,24,19,23,12,18,15,18,10,22,26,13,22,20,23,19,18,16,15,18,17,14,14,22,14,19,17,11,19,24,20,20,24,20,21,15,25,15,16,21,18,15,21,13,17,21,24,16,16,19,26,25,18,17,20,15,18,13,19,15,24,21,13,23,13,23,17,15,26,22,10,15,10,16,23,14,16,13,20,17,10,15,15,14,18,26,15,11,19,16,20,18,19,15,12,21,19,18,15,20,18,14,17,17,20,17,15,18,21,11,14,17,20,16,10,16,9,17,15,12,11,14,11,16,15,15,15,13,10,15,19,14,22,9,11,17,8,12,15,17,11,17,12,12,12,6,16,8,21,26,19,12,12,18,15,7,16,13,8,16,8,15,14,9,13,12,12,11,14,12,17,16,15,12,18,11,12,9,9,6,8,8,15,10,15,16,13,16,20,11,15,12,18,6,13,10,17,14,10,5,15,8,15,10,7,12,17,18,15,11,11,6,7,12,9,14,15,9,8,13,15,11,17,14,14,13,7,10,16,12,9,10,15,15,12,10,14,18,9,5,10,14,13,13,15,8,13,12,12,10,10,11,6,7,9,12,14,11,11,16,17,10,10,12,4,11,8,14,12,10,11,13,12,10,11,14,9,15,8,8,7,11,13,6,11,11,7,7,10,9,10,13,9,7,12,9,10,9,16,12,7,11,13,8,7,4,10,10,4,12,5,11,9,15,10,9,11,7,8,6,10,10,13,13,14,15,19,9,9,13,8,12,11,5,15,15,6,7,16,11,5,7,7,10,8,10,7,8,4,4,6,0,5,11,9,8,9,6,10,8,4,8,6,11,8,12,7,4,10,6,11,6,11,9,3,9,6,5,5,9,12,5,7,7,6,7,10,9,9,9,4,17,11,3,10,10,6,8,5,9,10,10,10,6,7,8,4,11,14,6,8,6,10,6,4,8,6,9,8,12,6,6,10,10,4,6,11,11,9,4,3,3,7,9,8,5,7,11,11,8,6,6,13,3,11,5,7,7,6,8,10,4,7,9,10,7,7,9,9,4,4,7,8,4,3,7,5,6,3,11,9,6,8,8,4,9,11,13,6,3,8,3,4,6,6,9,4,13,6,9,5,9,4,3,7,6,10,9,1,8,5,8,6,4,4,8,8,9,4,8,10,6,4,3,6,3,8,4,4,9,15,4,2,7,8,3,10,5,11,5,9,2,7,7,6,5,5,3,6,5,8,8,2,5,9,18,4,8,1,7,10,1,3,12,6,2,8,7,7,2,5,10,2,6,4,8,9,8,6,9,5,8,6,7,3,7,9,4,1,4,2,8,8,10,5,7,5,7,7,7,6,2,3,11,8,5,6,6,1,3,6,3,6,4,8,4,7,6,6,3,3,3,5,8,8,4,4,8,4,7,6,3,6,8,6,10,3,3,7,7,7,7,3,7,4,4,8,5,8,3,7,6,7,5,10,5,4,5,4,10,8,5,6,10,8,3,4,6,11,5,4,4,5,11,3,8,7,8,5,3,7,8,8,4,5,5,7,4,7,4,8,4,5,10,4,2,8,7,8,5,4,6,6,6,1,6,6,5,4,1,6,12,5,5,3,9,6,2,5,3,8,11,8,10,6,6,7,11,7,3,5,4,4,8,8,4,6,2,6,5,8,5,4,5,9,2,4,7,4,4,6,5,4,7,7,7,3,7,3,9,6,4,4,2,10,3,7,5,2,5,9,7,5,6,8,9,4,5,8,4,5,3,8,8,6,4,6,10,9,8,4,4,5,2,9,4,9,2,8,5,4,7,4,5,8,4,1,6,4,8,4,4,2,5,5,11,5,5,5,5,7,5,5,8,11,7,4,5,6,7,4,7,6,7,4,6,9,4,9,3,3,8,8,5,7,6,4,15,3,9,5,6,5,5,7,6,9,11,6,5,3,6,6,3,9,5,7,8,8,2,5,7,8,7,6,7,7,6,10,10,10,6,4,11,10,1,5,5,8,7,11,8,6,9,9,6,10,10,7,9,7,3,16,6,4,9,7,13,3,8,5,5,3,5,8,3,10,8,11,6,9,8,10,3,13,6,7,8,4,8,9,7,5,15,7,9,7,11,13,7,9,12,8,11,8,6,10,7,10,12,10,5,5,8,9,8,9,10,8,7,11,12,8,14,6,12,13,12,13,10,11,14,12,13,9,15,8,12,9,9,7,11,14,11,12,5,8,11,14,11,8,8,19,14,8,10,6,13,14,9,13,12,11,9,9,13,11,10,10,12,10,10,11,11,7,23,10,10,15,10,13,16,18,12,14,15,13,15,14,12,12,11,17,17,11,10,21,14,13,19,19,8,13,17,17,12,12,11,17,18,16,17,10,16,22,18,15,12,15,24,16,13,22,26,20,18,23,18,19,13,17,19,27,21,21,23,34,22,21,13,24,29,21,20,32,33,28,28,30,23,26,23,27,36,30,35,29,27,29,25,27,32,28,23,23,25,31,33,31,43,40,30,43,42,37,32,29,39,47,33,40,48,34,31,41,32,45,52,47,48,45,48,48,32,48,47,51,54,51,51,42,54,61,54,58,54,67,55,59,73,68,61,78,61,67,64,55,69,84,64,74,85,72,65,88,71,82,81,83,86,90,94,102,87,97,91,97,84,100,94,105,106,104,125,122,105,113,105,104,114,120,117,109,122,109,100,109,130,113,104,126,112,135,108,117,111,125,109,119,125,109,139,109,129,127,127,117,102,134,112,126,118,103,126,101,100,117,114,119,101,110,114,107,116,107,101,97,96,99,88,97,83,94,102,105,106,85,80,78,73,69,67,83,68,77,88,79,59,69,77,71,71,66,58,77,61,68,63,56,54,64,51,56,57,55,48,59,51,41,57,57,50,51,42,48,58,34,34,37,37,32,29,47,46,35,36,36,28,23,29,35,27,43,27,34,24,26,25,27,19,39,18,25,27,20,24,27,23,18,23,29,20,20,26,15,20,18,15,19,16,10,14,22,18,13,11,18,21,17,13,19,18,15,11,17,12,15,11,13,11,16,15,10,15,9,14,15,12,11,16,11,4,13,11,13,5,13,7,10,6,12,12,11,11,12,13,11,7,11,10,12,14,8,7,9,15,9,5,7,6,6,4,6,5,8,6,4,12,7,8,11,7,12,4,7,14,6,9,8,4,3,4,9,4,9,9,4,5,6,6,4,4,8,6,7,2,6,8,6,5,5,3,6,3,5,7,5,6,4,4,7,6,6,5,5,10,3,6,3,8,11,5,5,4,7,4,3,2,6,11,2,4,8,6,8,5,2,4,3,4,2,3,3,1,4,2,5,4,5,5,1,0,4,3,2,3,2,6,4,3,2,6,1,5,5,1,6,7,3,4,3,6,3,3,1,7,4,1,2,6,2,4,1,3,2,6,7,0,3,1,7,5,6,3,2,3,2,2,2,3,1,6,2,1,3,1,6,2,2,2,3,3,2,3,1,4,4,2,3,2,1,5,1,7,0,3,2,2,5,2,1,4,1,2,5,3,0,4,3,1,1,1,4,3,2,2,4,0,3,1,0,2,3,7,1,2,2,3,1,2,2,1,2,2,5,3,1,2,4,1,1,1,0,1,3,3,1,2,5,0,2,3,3,3,1,1,2,2,3,3,3,0,0,1,1,1,1,2,1,2,2,3,1,0,1,0,1,1,4,1,1,3,3,0,3,0,1,2,0,0,0,3,1,4,2,1,0,0,5,3,0,0,0,3,0,0,1,2,1,1,0,2,2,1,2,0,2,0,1,2,1,3,0,1,3,1,1,3,0,1,2,1,1,0,1,3,0,2,0,0,1,1,1,1,1,1,0,1,3,1,2,2,2,3,2,1,0,2,0,2,1,0,3,0,3,3,1,1,1,1,2,2,1,1,0,3,0,2,0,0,1,0,3,1,0,2,1,1,2,1,1,2,1,4,1,1,0,0,1,0,0,1,1,2,3,1,1,1,1,1,1,1,3,0,0,1,1,0,1,1,0,5,4,0,2,2,2,2,1,1,0,1,1,0,2,1,1,1,1,1,2,0,3,1,2,1,3,2,2,3,1,0,2,0,1,2,1,1,3,0,0,2,1,0,0,0,2,1,2,2,0,2,0,0,0,1,0,0,0,1,0,1,0,0,1,1,1,0,0,0,0,2,4,0,3,0,0,0,1,3,0,0,4,1,0,1,1,0,0,0,1,0,0,1,0,1,0,0,1,0,0,0,2,0,1,2,1,1,2,0,2,1,1,1,2,2,0,0,0,1,2,1,0,0,0,1,2,2,0,3,0,0,0,2,1,0,0,0,1,0,1,0,1,1,0,0,0,2,1,2,0,1,1,1,1,1,0,0,0,1,1,0,0,0,1,0,1,1,0,1,0,0,0,0,1,0,0,0,1,1,0,0,3,0,3,2,0,0,0,0,1,0,0,2,0,0,0,2,1,0,0,0,1,0,0,0,3,1,2,1,1,0,0,1,1,1,0,0,0,1,0,0,0,0,0,0,1,0,0,1,1,0,1,1,0,1,0,0,0,1,0,1,0,1,0,0,1,0,1,0,0,1,0,0,0,2,0,0,0,0,0,1,1,0,0,1,0,0,0,0,2,0,0,0,1,2,1,0,1,0,1,1,1,2,0,0,0,2,1,1,0,1,0,3,0,2,0,1,0,1,0,0,0,0,1,1,3,2,0,0,0,2,2,0,0,0,1,0,1,0,2,0,0,0,0,1,0,0,1,1,0,0,0,1,0,0,0,0,0,2,1,1,0,1,0,2,0,0,0,1,0,0,1,0,0,1,1,1,0,0,0,1,0,0,1,0,0,0,0,0,1,0,1,0,0,0,0,0,0,1,0,0,0,1,0,2,0,0,0,0,0,0,1,0,0,0,0,2,0,0,3,0,2,0,3,0,0,1,0,0,0,0,0,0,1,0,0,1,0,0,0,1,0,0,0,1,0,0,1,1,2,0,1,0,1,0,0,0,0,0,1,0,0,0,0,0,1,1,0,1,0,1,1,0,1,0,0,2,1,0,0,1,0,1,1,2,1,0,0,0,1,0,0,0,0,1,0,0,0,1,0,0,0,0,0,0,1,0,0,1,0,0,1,0,0,1,1,0,0,0,0,0,0,0,1,0,2,0,0,0,0,0,0,0,0,0,1,0,0,0,0,0,0,0,0,0,2,0,0,0,0,2,0,0,1,0,0,1,1,0,0,0,2,0,0,0,1,1,0,1,0,0,0,1,0,0,3,0,1,0,0,1,0,2,1,0,0,0,0,0,0,0,0,0,1,0,0,0,0,0,0,0,0,0,1,0,0,1,0,0,1,1,0,0,0,0,0,0,0,0,1,0,0,1,0,1,0,0,1,1,0,0,0,0,0,0,0,0,0,0,0,1,0,0,0,0,0,0,0,0,2,1,0,0,3,0,0,1,1,0,0,0,0,0,0,0,0,0,0,0,0,0,0,0,2,1,0,0,0,1,1,0,0,0,0,0,0,0,0,1,1,0,0,1,0,0,0,0,1,0,1,0,0,0,1,0,0,0,0,0,0,0,0,0,0,0,1,1,1,0,1,0,0,0,1,0,0,0,1,0,0,0,0,0,1,0,0,0,0,0,1,0,1,1,0,0,0,0,0,1,0,0,0,0,0,1,0,1,0,0,1,0,0,0,0,0,0,0,1,0,0,0,0,0,0,0,0,0,0,0,0,0,0,0,1,0,0,0,0,0,0,1,0,0,0,1,1,0,1,0,0,0,1,0,0,0,2,0,0,0,1,0,2,0,0,0,1,0,0,0,0,1,1,0,0,0,0,0,0,0,0,0,0,0,1,0,1,0,0,0,0,0,0,0,1,0,0,0,0,0,0,0,0,0,0,0,0,0,1,0,0,0,0,0,0,0,1,0,0,1,1,0,1,0,0,0,0,1,0,1,0,1,0,0,0,0,0,0,0,0,0,0,0,1,0,0,0,0,0,0,1,0,0,0,0,0,0,0,0,0,1,1,0,0,0,0,0,0,0,1,0,0,0,0,1,0,0,0,0,0,0,0,1,0,0,0,2,0,0,0,0,0,1,0,0,0,0,0,0,0,3,0,0,0,1,0,0,0,0,0,0,0,0,0,0,0,0,0,0,0,0,0,0,0,0,0,0,0,0,0,0,0,0,0,0,1,0,0,0,0,0,1,0,0,0,0,0,0,0,0,0,0,0,0,0,0,0,0,0,0,0,0,0,0,0,0,1,0,0,0,0,0,0,0,1,2,0,1,1,0,0,0,1,0,0,0,0,0,0,0,0,0,1,0,1,0,0,0,0,0,0,0,0,0,1,0,0,0,1,0,0,1,1,0,1,0,0,0,0,0,0,0,0,0,0,0,0,0,0,0,0,1,0,0,0,0,0,0,0,2,0,0,0,0,1,0,0,0,0,0,0,0,1,0,0,0,0,0,1,0,0,0,0,0,0,0,0,0,0,0,0,0,0,0,0,0,0,0,0,0,0,0,0,0,0,0,0,0,0,0,0,0,0,1,0,0,1,0,0,0,0,2,0,0,0,1,0,0,0,1,0,1,0,0,2,0,0,0,0,0,0,0,0,0,0,1,0,0,0,0,0,0,0,0,1,0,0,0,0,0,0,0,0,1,0,0,0,0,0,0,1,0,0,1,1,0,0,0,0,1,0,0,0,0,1,0,1,2,0,0,0,1,0,0,2,0,0,1,0,0,1,0,0,0,0,0,0,0,1,0,0,0,0,0,0,0,1,0,0,0,0,0,1,1,0,0,0,0,0,0,1,0,0,0,1,0,0,0,1,1,0,0,0,0,0,0,0,0,0,0,0,0,0,0,0,0,0,0,0,0,0,0,0,0,0,0,0,0,0,0,0,0,0,0,0,0,0,0,0,0,0,0,0,0,0,0,0,0,0,0,0,0,0,0,0,0,0,0,0,0,0,0,1,0,0,0,0,0,0,1,0,0,0,0,0,0,0,1,0,0,0,0,0,0,0,0,0,0,0,0,0,0,0,0,0,0,0,0,0,0,0,0,0,0,0,0,0,0,1,0,0,0,0,0,0,0,0,0,1,0,0,0,0,0,0,1,0,0,0,0,0,0,0,0,0,0,1,0,1,0,0,0,0,0,1,0,0,0,0,0,0,0,0,0,0,0,0,0,0,0,1,0,0,2,0,0,0,0,0,0,0,0,0,0,0,0,0,1,1,0,0,0,0,0,0,0,0,0,1,0,0,1,0,0,0,0,2,0,0,0,0,1,0,0,1,0,0,0,0,0,0,0,0,2,0,0,0,0,0,0,0,0,0,0,0,0,0,0,0,1,0,0,1,1,0,0,0,0,0,0,0,0,0,0,0,0,0,0,1,0,0,0,0,0,0,0,0,0,0,0,0,0,1,0,0,0,0,0,0,0,0,0,0,0,0,0,1,0,0,0,0,0,0,0,0,0,0,0,0,0,0,0,0,0,2,0,0,0,0,0,1,0,0,0,0,0,1,0,0,0,0,0,0,1,0,0,0,0,1,0,0,1,0,0,0,0,0,0,0,0,0,0,0,0,0,0,0,0,0,0,0,0,0,0,0,0,0,1,0,1,0,0,0,0,0,0,0,0,0,0,0,1,0,0,0,0,0,0,0,0,0,0,0,1,0,0,0,0,0,0,1,0,0,0,0,0,0,0,0,0,0,0,0,0,0,0,0,0,0,0,0,0,0,0,0,0,0,0,0,0,0,0,1,0,0,0,0,0,0,0,0,0,1,0,0,0,0,0,0,0,0,0,0,0,0,0,1,0,0,0,0,0,0,0,0,0,0,0,0,0,0,0,0,0,0,0,0,0,0,0,0,0,0,0,0,0,0,0,0,0,0,0,0,0,0,0,1,0,0,0,1,0,0,0,0,0,0,0,1,0,0,0,0,0,0,0,0,0,1,0,1,0,0,0,0,0,0,0,0,0,0,0,0,0,0,0,0,0,0,0,0,0,0,0,0,0,0,2,0,0,0,0,0,0,0,1,0,0,0,0,0,1,0,0,0,0,0,0,0,0,0,0,0,0,0,0,0,0,1,0,0,0,0,0,1,0,0,0,0,0,0,0,1,0,0,0,0,0,0,0,0,1,0,0,0,0,0,0,0,0,0,0,0,0,0,0,0,0,0,1,0,0,0,0,0,0,0,0,0,0,0,0,0,0,0,1,0,0,0,0,0,0,0,0,0,0,0,0,0,0,0,0,0,0,0,0,0,1,0,0,0,1,1,0,0,0,0,0,0,0,0,0,1,0,0,0,0,0,0,0,0,0,1,0,0,0,0,0,0,0,0,0,0,0,0,0,0,0,0,0,0,0,0,0,0,0,0,0,0,0,0,0,0,0,0,0,0,0,0,0,0,0,0,0,0,0,0,0,0,0,1,0,0,1,0,0,0,0,0,0,0,1,0,0,0,0,0,0,0,0,1,0,0,0,0,0,0,0,0,0,0,0,0,0,0,1,0,0,0,0,0,0,0,0,0,0,0,0,1,0,0,0,0,0,0,1,0,0,0,0,0,0,0,0,0,0,0,0,0,0,0,0,0,0,0,0,0,0,0,0,1,0,0,0,0,0,0,0,0,0,0,1,0,0,1,0,0,0,0,0,0,0,0,0,0,1,0,0,0,0,0,0,0,0,0,0,0,0,0,0,0,0,0,0,0,0,1,0,0,0,0,0,0,0,0,0,0,0,0,0,0,0,0,0,0,0,0,0,0,0,0,0,0,0,0,0,0,0,0,0,0,0,0,0,0,0,0,0,0,0,0,0,1,0,0,0,0,0,0,0,0,0,0,1,1,0,0,0,0,0,0,0,0,0,1,0,0,0,0,0,0,0,0,0,0,0,0,0,0,0,0,0,0,0,0,0,0,0,0,0,0,0,0,0,0,105]},{\"_typename\":\"TLatex\",\"fUniqueID\":0,\"fBits\":16393,\"fName\":\"\",\"fTitle\":\"#bf{CMS Open Data}\",\"fTextAngle\":0,\"fTextSize\":0.04,\"fTextAlign\":11,\"fTextColor\":1,\"fTextFont\":42,\"fX\":0.1,\"fY\":0.92,\"fLineColor\":1,\"fLineStyle\":1,\"fLineWidth\":2,\"fLimitFactorSize\":3,\"fOriginSize\":0.04},{\"_typename\":\"TLatex\",\"fUniqueID\":0,\"fBits\":16393,\"fName\":\"\",\"fTitle\":\"#sqrt{s} = 8 TeV, L_{int} = 11.6 fb^{-1}\",\"fTextAngle\":0,\"fTextSize\":0.03,\"fTextAlign\":11,\"fTextColor\":1,\"fTextFont\":42,\"fX\":0.63,\"fY\":0.92,\"fLineColor\":1,\"fLineStyle\":1,\"fLineWidth\":2,\"fLimitFactorSize\":3,\"fOriginSize\":0.04},{\"_typename\":\"TStyle\",\"fUniqueID\":0,\"fBits\":0,\"fName\":\"Modern\",\"fTitle\":\"Modern Style\",\"fLineColor\":1,\"fLineStyle\":1,\"fLineWidth\":1,\"fFillColor\":19,\"fFillStyle\":1001,\"fMarkerColor\":1,\"fMarkerStyle\":1,\"fMarkerSize\":1,\"fTextAngle\":0,\"fTextSize\":0.05,\"fTextAlign\":11,\"fTextColor\":1,\"fTextFont\":42,\"fXaxis\":{\"_typename\":\"TAttAxis\",\"fNdivisions\":510,\"fAxisColor\":1,\"fLabelColor\":1,\"fLabelFont\":42,\"fLabelOffset\":0.005,\"fLabelSize\":0.035,\"fTickLength\":0.03,\"fTitleOffset\":1,\"fTitleSize\":0.035,\"fTitleColor\":1,\"fTitleFont\":42},\"fYaxis\":{\"_typename\":\"TAttAxis\",\"fNdivisions\":510,\"fAxisColor\":1,\"fLabelColor\":1,\"fLabelFont\":42,\"fLabelOffset\":0.005,\"fLabelSize\":0.035,\"fTickLength\":0.03,\"fTitleOffset\":0,\"fTitleSize\":0.035,\"fTitleColor\":1,\"fTitleFont\":42},\"fZaxis\":{\"_typename\":\"TAttAxis\",\"fNdivisions\":510,\"fAxisColor\":1,\"fLabelColor\":1,\"fLabelFont\":42,\"fLabelOffset\":0.005,\"fLabelSize\":0.035,\"fTickLength\":0.03,\"fTitleOffset\":1,\"fTitleSize\":0.035,\"fTitleColor\":1,\"fTitleFont\":42},\"fBarWidth\":1,\"fBarOffset\":0,\"fColorModelPS\":0,\"fDrawBorder\":0,\"fOptLogx\":0,\"fOptLogy\":0,\"fOptLogz\":0,\"fOptDate\":0,\"fOptStat\":0,\"fOptTitle\":1,\"fOptFile\":0,\"fOptFit\":0,\"fShowEventStatus\":0,\"fShowEditor\":0,\"fShowToolBar\":0,\"fNumberContours\":20,\"fAttDate\":{\"_typename\":\"TAttText\",\"fTextAngle\":0,\"fTextSize\":0.025,\"fTextAlign\":11,\"fTextColor\":1,\"fTextFont\":62},\"fDateX\":0.01,\"fDateY\":0.01,\"fEndErrorSize\":2,\"fErrorX\":0.5,\"fFuncColor\":2,\"fFuncStyle\":1,\"fFuncWidth\":2,\"fGridColor\":0,\"fGridStyle\":3,\"fGridWidth\":1,\"fLegendBorderSize\":1,\"fLegendFillColor\":0,\"fLegendFont\":42,\"fLegendTextSize\":0,\"fHatchesLineWidth\":1,\"fHatchesSpacing\":1,\"fFrameFillColor\":0,\"fFrameLineColor\":1,\"fFrameFillStyle\":1001,\"fFrameLineStyle\":1,\"fFrameLineWidth\":1,\"fFrameBorderSize\":1,\"fFrameBorderMode\":0,\"fHistFillColor\":0,\"fHistLineColor\":602,\"fHistFillStyle\":1001,\"fHistLineStyle\":1,\"fHistLineWidth\":1,\"fHistMinimumZero\":false,\"fHistTopMargin\":0.05,\"fCanvasPreferGL\":false,\"fCanvasColor\":0,\"fCanvasBorderSize\":2,\"fCanvasBorderMode\":0,\"fCanvasDefH\":500,\"fCanvasDefW\":700,\"fCanvasDefX\":10,\"fCanvasDefY\":10,\"fPadColor\":0,\"fPadBorderSize\":2,\"fPadBorderMode\":0,\"fPadBottomMargin\":0.1,\"fPadTopMargin\":0.1,\"fPadLeftMargin\":0.1,\"fPadRightMargin\":0.1,\"fPadGridX\":false,\"fPadGridY\":false,\"fPadTickX\":0,\"fPadTickY\":0,\"fPaperSizeX\":20,\"fPaperSizeY\":26,\"fScreenFactor\":1,\"fStatColor\":0,\"fStatTextColor\":1,\"fStatBorderSize\":1,\"fStatFont\":42,\"fStatFontSize\":0,\"fStatStyle\":1001,\"fStatFormat\":\"6.4g\",\"fStatX\":0.98,\"fStatY\":0.935,\"fStatW\":0.2,\"fStatH\":0.16,\"fStripDecimals\":true,\"fTitleAlign\":23,\"fTitleColor\":0,\"fTitleTextColor\":1,\"fTitleBorderSize\":0,\"fTitleFont\":42,\"fTitleFontSize\":0.05,\"fTitleStyle\":0,\"fTitleX\":0.5,\"fTitleY\":0.995,\"fTitleW\":0,\"fTitleH\":0,\"fLegoInnerR\":0.5,\"fLineStyle\":[\"\",\"  \",\" 12 12\",\" 4 8\",\" 12 16 4 16\",\" 20 12 4 12\",\" 20 12 4 12 4 12 4 12\",\" 20 20\",\" 20 12 4 12 4 12\",\" 80 20\",\" 80 40 4 40\",\"  \",\"  \",\"  \",\"  \",\"  \",\"  \",\"  \",\"  \",\"  \",\"  \",\"  \",\"  \",\"  \",\"  \",\"  \",\"  \",\"  \",\"  \",\"  \"],\"fHeaderPS\":\"\",\"fTitlePS\":\"\",\"fFitFormat\":\"5.4g\",\"fPaintTextFormat\":\"g\",\"fLineScalePS\":3,\"fJoinLinePS\":0,\"fCapLinePS\":0,\"fTimeOffset\":788918400,\"fImageScaling\":1}],\"opt\":[\"\",\"\",\"\",\"\",\"\"]},\"fExecs\":null,\"fName\":\"c\",\"fTitle\":\"\",\"fNumPaletteColor\":0,\"fNextPaletteColor\":0,\"fDISPLAY\":\"$DISPLAY\",\"fDoubleBuffer\":0,\"fRetained\":true,\"fXsizeUser\":0,\"fYsizeUser\":0,\"fXsizeReal\":20,\"fYsizeReal\":17.5,\"fWindowTopX\":0,\"fWindowTopY\":0,\"fWindowWidth\":0,\"fWindowHeight\":0,\"fCw\":796,\"fCh\":672,\"fCatt\":{\"_typename\":\"TAttCanvas\",\"fXBetween\":2,\"fYBetween\":2,\"fTitleFromTop\":1.2,\"fXdate\":0.2,\"fYdate\":0.3,\"fAdate\":1},\"kMoveOpaque\":true,\"kResizeOpaque\":true,\"fHighLightColor\":2,\"fBatch\":true,\"kShowEventStatus\":false,\"kAutoExec\":true,\"kMenuBar\":true});\n",
       "       Core.key_handling = false;\n",
       "       Core.draw(\"root_plot_1594213278563\", obj, \"\");\n",
       "     }\n",
       " );\n",
       "</script>\n"
      ],
      "text/plain": [
       "<IPython.core.display.HTML object>"
      ]
     },
     "metadata": {},
     "output_type": "display_data"
    }
   ],
   "source": [
    "%jsroot on\n",
    "c.Draw()"
   ]
  },
  {
   "cell_type": "markdown",
   "metadata": {},
   "source": [
    "## Print the cutflow report\n",
    "\n",
    "Here you can inspect the number of events actually read and how many ended up in the histogram."
   ]
  },
  {
   "cell_type": "code",
   "execution_count": 9,
   "metadata": {},
   "outputs": [
    {
     "name": "stdout",
     "output_type": "stream",
     "text": [
      "Events with exactly two muons: pass=131936     all=270077     -- eff=48.85 % cumulative eff=48.85 %\n",
      "Muons with opposite charge: pass=100000     all=131936     -- eff=75.79 % cumulative eff=37.03 %\n"
     ]
    }
   ],
   "source": [
    "report.Print()"
   ]
  },
  {
   "cell_type": "markdown",
   "metadata": {},
   "source": [
    "# Other example analyses\n",
    "\n",
    "The following part of the notebook highlights example analyses in Python using a workflow similar to the example above, all freely accessbile thanks to open source and open data!\n",
    "\n",
    "## Higgs to four leptons analysis using CMS Open Data\n",
    "\n",
    "![](https://root.cern/doc/v622/pict1_df103_NanoAODHiggsAnalysis.C.png)\n",
    "\n",
    "[Link to analysis](https://root.cern/doc/v622/df103__NanoAODHiggsAnalysis_8py.html)\n",
    "\n",
    "## Higgs to two photons analysis using ATLAS Open Data\n",
    "\n",
    "![](https://root.cern/doc/v622/pict1_df104_HiggsToTwoPhotons.py.png)\n",
    "\n",
    "[Link to analysis](https://root.cern/doc/v622/df104__HiggsToTwoPhotons_8py.html)\n",
    "\n",
    "## W boson analysis using ATLAS Open Data\n",
    "\n",
    "![](https://root.cern/doc/v622/pict1_df105_WBosonAnalysis.py.png)\n",
    "\n",
    "[Link to analysis](https://root.cern/doc/v622/df105__WBosonAnalysis_8py.html)\n",
    "\n",
    "## Higgs to four leptons analysis using ATLAS Open Data\n",
    "\n",
    "![](https://root.cern/doc/v622/pict1_df106_HiggsToFourLeptons.py.png)\n",
    "\n",
    "[Link to analysis](https://root.cern/doc/v622/df106__HiggsToFourLeptons_8py.html)"
   ]
  }
 ],
 "metadata": {
  "kernelspec": {
   "display_name": "Python 3",
   "language": "python",
   "name": "python3"
  },
  "language_info": {
   "codemirror_mode": {
    "name": "ipython",
    "version": 3
   },
   "file_extension": ".py",
   "mimetype": "text/x-python",
   "name": "python",
   "nbconvert_exporter": "python",
   "pygments_lexer": "ipython3",
   "version": "3.7.6"
  }
 },
 "nbformat": 4,
 "nbformat_minor": 4
}
